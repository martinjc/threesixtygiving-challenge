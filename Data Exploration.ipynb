{
 "cells": [
  {
   "cell_type": "code",
   "execution_count": 1,
   "metadata": {},
   "outputs": [],
   "source": [
    "import os\n",
    "\n",
    "import pandas as pd\n",
    "\n"
   ]
  },
  {
   "cell_type": "code",
   "execution_count": 2,
   "metadata": {},
   "outputs": [
    {
     "name": "stdout",
     "output_type": "stream",
     "text": [
      "Index(['Identifier', 'Title', 'Description', 'Currency', 'Amount Applied For',\n",
      "       'Amount Awarded', 'Amount Disbursed', 'Award Date', 'URL',\n",
      "       'Planned Dates:Start Date', 'Planned Dates:End Date',\n",
      "       'Planned Dates:Duration (months)', 'Actual Dates:Start Date',\n",
      "       'Actual Dates:End Date', 'Actual Dates:Duration (months)',\n",
      "       'Recipient Org:Identifier', 'Recipient Org:Name',\n",
      "       'Recipient Org:Charity Number', 'Recipient Org:Company Number',\n",
      "       'Recipient Org:Postal Code',\n",
      "       'Recipient Org:Location:0:Geographic Code Type',\n",
      "       'Recipient Org:Location:0:Geographic Code',\n",
      "       'Recipient Org:Location:0:Name',\n",
      "       'Recipient Org:Location:1:Geographic Code Type',\n",
      "       'Recipient Org:Location:1:Geographic Code',\n",
      "       'Recipient Org:Location:1:Name',\n",
      "       'Recipient Org:Location:2:Geographic Code Type',\n",
      "       'Recipient Org:Location:2:Geographic Code',\n",
      "       'Recipient Org:Location:2:Name', 'Funding Org:Identifier',\n",
      "       'Funding Org:Name', 'Funding Org:Postal Code', 'Grant Programme:Code',\n",
      "       'Grant Programme:Title', 'Grant Programme:URL',\n",
      "       'Beneficiary Location:0:Name', 'Beneficiary Location:0:Country Code',\n",
      "       'Beneficiary Location:0:Geographic Code',\n",
      "       'Beneficiary Location:0:Geographic Code Type',\n",
      "       'Beneficiary Location:1:Name', 'Beneficiary Location:1:Country Code',\n",
      "       'Beneficiary Location:1:Geographic Code',\n",
      "       'Beneficiary Location:1:Geographic Code Type',\n",
      "       'Beneficiary Location:2:Name', 'Beneficiary Location:2:Country Code',\n",
      "       'Beneficiary Location:2:Geographic Code',\n",
      "       'Beneficiary Location:2:Geographic Code Type',\n",
      "       'Beneficiary Location:3:Name', 'Beneficiary Location:3:Country Code',\n",
      "       'Beneficiary Location:3:Geographic Code',\n",
      "       'Beneficiary Location:3:Geographic Code Type',\n",
      "       'Beneficiary Location:4:Name', 'Beneficiary Location:4:Country Code',\n",
      "       'Beneficiary Location:4:Geographic Code',\n",
      "       'Beneficiary Location:4:Geographic Code Type',\n",
      "       'Beneficiary Location:5:Name', 'Beneficiary Location:5:Country Code',\n",
      "       'Beneficiary Location:5:Geographic Code',\n",
      "       'Beneficiary Location:5:Geographic Code Type',\n",
      "       'Beneficiary Location:6:Name', 'Beneficiary Location:6:Country Code',\n",
      "       'Beneficiary Location:6:Geographic Code',\n",
      "       'Beneficiary Location:6:Geographic Code Type',\n",
      "       'Beneficiary Location:7:Name', 'Beneficiary Location:7:Country Code',\n",
      "       'Beneficiary Location:7:Geographic Code',\n",
      "       'Beneficiary Location:7:Geographic Code Type', 'From An Open Call?',\n",
      "       'The following fields are not in the 360 Giving Standard and are added by GrantNav.',\n",
      "       'Data Source', 'Publisher:Name', 'Recipient Region',\n",
      "       'Recipient District', 'Recipient District Geographic Code',\n",
      "       'Recipient Ward', 'Recipient Ward Geographic Code',\n",
      "       'Retrieved for use in GrantNav', 'License (see note)',\n",
      "       'Note, this file also contains OS data © Crown copyright and database right 2016, Royal Mail data © Royal Mail copyright and Database right 2016, National Statistics data © Crown copyright and database right 2015 & 2016, see http://grantnav.threesixtygiving.org/datasets/ for more information.'],\n",
      "      dtype='object')\n"
     ]
    }
   ],
   "source": [
    "# let's read in the data and see what we've got\n",
    "\n",
    "data = pd.read_csv(os.path.join(os.getcwd(), 'src_data_non_public', 'grantnav-20180428182800.csv'), low_memory=False)\n",
    "print(data.columns)"
   ]
  },
  {
   "cell_type": "code",
   "execution_count": 3,
   "metadata": {},
   "outputs": [
    {
     "name": "stdout",
     "output_type": "stream",
     "text": [
      "24,728,270,114.807808\n"
     ]
    }
   ],
   "source": [
    "# how much money are we looking at?\n",
    "\n",
    "print('{:,}'.format(data['Amount Awarded'].sum()))"
   ]
  },
  {
   "cell_type": "code",
   "execution_count": 6,
   "metadata": {},
   "outputs": [
    {
     "name": "stdout",
     "output_type": "stream",
     "text": [
      "170,191\n"
     ]
    }
   ],
   "source": [
    "# going to how many places?\n",
    "\n",
    "print('{:,}'.format(len(data['Recipient Org:Identifier'].unique())))"
   ]
  },
  {
   "cell_type": "code",
   "execution_count": 7,
   "metadata": {},
   "outputs": [
    {
     "name": "stdout",
     "output_type": "stream",
     "text": [
      "73\n"
     ]
    }
   ],
   "source": [
    "# from how many funders?\n",
    "\n",
    "print('{:,}'.format(len(data['Funding Org:Identifier'].unique())))"
   ]
  },
  {
   "cell_type": "code",
   "execution_count": 8,
   "metadata": {},
   "outputs": [
    {
     "name": "stdout",
     "output_type": "stream",
     "text": [
      "281,675\n"
     ]
    }
   ],
   "source": [
    "# in how many grants?\n",
    "\n",
    "print('{:,}'.format(len(data['Identifier'].unique())))"
   ]
  },
  {
   "cell_type": "code",
   "execution_count": null,
   "metadata": {},
   "outputs": [],
   "source": []
  }
 ],
 "metadata": {
  "kernelspec": {
   "display_name": "Python 3",
   "language": "python",
   "name": "python3"
  },
  "language_info": {
   "codemirror_mode": {
    "name": "ipython",
    "version": 3
   },
   "file_extension": ".py",
   "mimetype": "text/x-python",
   "name": "python",
   "nbconvert_exporter": "python",
   "pygments_lexer": "ipython3",
   "version": "3.6.3"
  }
 },
 "nbformat": 4,
 "nbformat_minor": 2
}
